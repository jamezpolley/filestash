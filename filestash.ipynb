{
 "metadata": {
  "name": "filestash"
 },
 "nbformat": 3,
 "nbformat_minor": 0,
 "worksheets": [
  {
   "cells": [
    {
     "cell_type": "code",
     "collapsed": false,
     "input": [
      "import hashlib\n",
      "\n",
      "input = \"A test string\"\n",
      "print hashlib.md5(input).hexdigest()\n",
      "print hashlib.sha1(input).hexdigest()"
     ],
     "language": "python",
     "metadata": {},
     "outputs": [
      {
       "output_type": "stream",
       "stream": "stdout",
       "text": [
        "99ce4dbdc6db1ab876443113ae24b816\n",
        "2f960c7436ae0bbd409c522d3fa081d05b077395\n"
       ]
      }
     ],
     "prompt_number": 3
    },
    {
     "cell_type": "code",
     "collapsed": false,
     "input": [
      "f = open('tests/test_file')\n",
      "print hashlib.md5(f.read()).hexdigest()"
     ],
     "language": "python",
     "metadata": {},
     "outputs": [
      {
       "output_type": "stream",
       "stream": "stdout",
       "text": [
        "0035e1010ea5e875c8776c69dd0ee03e\n"
       ]
      }
     ],
     "prompt_number": 5
    },
    {
     "cell_type": "code",
     "collapsed": false,
     "input": [
      "import random\n",
      "random.choice(range(8800,8900))\n"
     ],
     "language": "python",
     "metadata": {},
     "outputs": [
      {
       "output_type": "pyout",
       "prompt_number": 12,
       "text": [
        "8887"
       ]
      }
     ],
     "prompt_number": 12
    }
   ],
   "metadata": {}
  }
 ]
}